{
 "cells": [
  {
   "cell_type": "code",
   "execution_count": 4,
   "metadata": {},
   "outputs": [
    {
     "name": "stdout",
     "output_type": "stream",
     "text": [
      "Graph X readings: range(0, 21)\n",
      "Graph Y readings: [0.5, 0.7310585786300049, 0.8807970779778823, 0.9525741268224334, 0.9820137900379085, 0.9933071490757153, 0.9975273768433653, 0.9990889488055994, 0.9996646498695336, 0.9998766054240137, 0.9999546021312976, 0.999983298578152, 0.9999938558253978, 0.999997739675702, 0.9999991684719722, 0.999999694097773, 0.9999998874648379, 0.9999999586006244, 0.9999999847700205, 0.9999999943972036, 0.9999999979388463]\n"
     ]
    },
    {
     "data": {
      "image/png": "[encoded data removed]",
      "text/plain": [
       "<Figure size 432x288 with 1 Axes>"
      ]
     },
     "metadata": {
      "needs_background": "light"
     },
     "output_type": "display_data"
    }
   ],
   "source": [
    "%matplotlib inline\n",
    "import numpy as np\n",
    "import matplotlib.pyplot as plt\n",
    " \n",
    " \n",
    "def sigmoid(inputs):\n",
    "    \"\"\"\n",
    "    Calculate the sigmoid for the give inputs (array)\n",
    "    :param inputs:\n",
    "    :return:\n",
    "    \"\"\"\n",
    "    sigmoid_scores = [1 / float(1 + np.exp(- x)) for x in inputs]\n",
    "    return sigmoid_scores\n",
    " \n",
    " \n",
    "def line_graph(x, y, x_title, y_title):\n",
    "    \"\"\"\n",
    "    Draw line graph with x and y values\n",
    "    :param x:\n",
    "    :param y:\n",
    "    :param x_title:\n",
    "    :param y_title:\n",
    "    :return:\n",
    "    \"\"\"\n",
    "    plt.plot(x, y)\n",
    "    plt.xlabel(x_title)\n",
    "    plt.ylabel(y_title)\n",
    "    plt.show()\n",
    " \n",
    " \n",
    "graph_x = range(0, 21)\n",
    "graph_y = sigmoid(graph_x)\n",
    " \n",
    "print (\"Graph X readings: {}\".format(graph_x))\n",
    "print (\"Graph Y readings: {}\".format(graph_y))\n",
    " \n",
    "line_graph(graph_x, graph_y, \"Inputs\", \"Sigmoid Scores\")"
   ]
  },
  {
   "cell_type": "markdown",
   "metadata": {},
   "source": [
    "# plot Soft max function\n"
   ]
  },
  {
   "cell_type": "code",
   "execution_count": 5,
   "metadata": {},
   "outputs": [],
   "source": [
    "X = np.random.randint??"
   ]
  },
  {
   "cell_type": "code",
   "execution_count": 50,
   "metadata": {},
   "outputs": [],
   "source": [
    "X = np.random.randn(1000)"
   ]
  },
  {
   "cell_type": "code",
   "execution_count": 51,
   "metadata": {},
   "outputs": [],
   "source": [
    "X.sort()"
   ]
  },
  {
   "cell_type": "code",
   "execution_count": 52,
   "metadata": {},
   "outputs": [],
   "source": [
    "def softMax(np_array):\n",
    "    return np.exp(np_array)/np.sum(np.exp(np_array))"
   ]
  },
  {
   "cell_type": "code",
   "execution_count": 53,
   "metadata": {},
   "outputs": [],
   "source": [
    "y = softMax(X)"
   ]
  },
  {
   "cell_type": "code",
   "execution_count": 81,
   "metadata": {},
   "outputs": [
    {
     "name": "stderr",
     "output_type": "stream",
     "text": [
      "No handles with labels found to put in legend.\n"
     ]
    },
    {
     "data": {
      "image/png": "[encoded data removed]",
      "text/plain": [
       "<Figure size 432x288 with 2 Axes>"
      ]
     },
     "metadata": {
      "needs_background": "light"
     },
     "output_type": "display_data"
    }
   ],
   "source": [
    "plt.subplot(2,1,1) # 2 rows, 2 columns, 1st subplot = top left\n",
    "plt.plot(X, y, color='red')\n",
    "# plt.xlim(-10,10)\n",
    "# plt.ylim(0,0.01)\n",
    "plt.subplot(2,1,2)\n",
    "plt.plot(graph_x, graph_y, color='blue')\n",
    "# plt.xlim(-10,10)\n",
    "# plt.ylim(0,0.01)\n",
    "plt.legend()\n",
    "plt.show()\n"
   ]
  },
  {
   "cell_type": "code",
   "execution_count": null,
   "metadata": {},
   "outputs": [],
   "source": []
  }
 ],
 "metadata": {
  "kernelspec": {
   "display_name": "Python 3.7.2 64-bit ('venv': virtualenv)",
   "language": "python",
   "name": "python37264bitvenvvirtualenvc8215f58c15a47deba343d80afd29add"
  },
  "language_info": {
   "codemirror_mode": {
    "name": "ipython",
    "version": 3
   },
   "file_extension": ".py",
   "mimetype": "text/x-python",
   "name": "python",
   "nbconvert_exporter": "python",
   "pygments_lexer": "ipython3",
   "version": "3.7.7"
  }
 },
 "nbformat": 4,
 "nbformat_minor": 4
}
